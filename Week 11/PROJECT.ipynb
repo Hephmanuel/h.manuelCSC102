{
 "cells": [
  {
   "cell_type": "code",
   "execution_count": 2,
   "id": "e72cee0c",
   "metadata": {},
   "outputs": [
    {
     "ename": "TypeError",
     "evalue": "'>' not supported between instances of 'str' and 'int'",
     "output_type": "error",
     "traceback": [
      "\u001b[1;31m---------------------------------------------------------------------------\u001b[0m",
      "\u001b[1;31mTypeError\u001b[0m                                 Traceback (most recent call last)",
      "Cell \u001b[1;32mIn[2], line 20\u001b[0m\n\u001b[0;32m     18\u001b[0m         \u001b[38;5;28;01mpass\u001b[39;00m\n\u001b[0;32m     19\u001b[0m \u001b[38;5;28;01mfor\u001b[39;00m row \u001b[38;5;129;01min\u001b[39;00m data :  \n\u001b[1;32m---> 20\u001b[0m     \u001b[38;5;28;01mif\u001b[39;00m (\u001b[43mrow\u001b[49m\u001b[43m[\u001b[49m\u001b[38;5;124;43m'\u001b[39;49m\u001b[38;5;124;43mAge\u001b[39;49m\u001b[38;5;124;43m'\u001b[39;49m\u001b[43m]\u001b[49m\u001b[43m \u001b[49m\u001b[38;5;241;43m>\u001b[39;49m\u001b[43m \u001b[49m\u001b[38;5;241;43m14\u001b[39;49m \u001b[38;5;129;01mand\u001b[39;00m row[\u001b[38;5;124m'\u001b[39m\u001b[38;5;124mAge\u001b[39m\u001b[38;5;124m'\u001b[39m]\u001b[38;5;241m<\u001b[39m \u001b[38;5;241m18\u001b[39m):\n\u001b[0;32m     21\u001b[0m         student\u001b[38;5;241m.\u001b[39mpirates()\n\u001b[0;32m     22\u001b[0m     \u001b[38;5;28;01mif\u001b[39;00m (row[\u001b[38;5;124m'\u001b[39m\u001b[38;5;124mAge\u001b[39m\u001b[38;5;124m'\u001b[39m] \u001b[38;5;241m>\u001b[39m \u001b[38;5;241m18\u001b[39m \u001b[38;5;129;01mand\u001b[39;00m row[\u001b[38;5;124m'\u001b[39m\u001b[38;5;124mAge\u001b[39m\u001b[38;5;124m'\u001b[39m]\u001b[38;5;241m<\u001b[39m \u001b[38;5;241m22\u001b[39m):\n",
      "\u001b[1;31mTypeError\u001b[0m: '>' not supported between instances of 'str' and 'int'"
     ]
    }
   ],
   "source": [
    "#PROJECT\n",
    "\n",
    "import csv\n",
    "import pandas as pd\n",
    "with open('SIS dataset.csv', mode='r') as csv_file:\n",
    "    csv_reader = csv.DictReader(csv_file)\n",
    "    data = list(csv_reader)\n",
    "        \n",
    "\n",
    "\n",
    "class sis:\n",
    "    def pirates(self):\n",
    "        df = pd.DataFrame(data)\n",
    "        df.to_csv('The_Pirates.csv')\n",
    "    def yankees():\n",
    "        pass\n",
    "    def bulls():\n",
    "        pass\n",
    "for row in data :  \n",
    "    if (row['Age'] > 14 and row['Age']< 18):\n",
    "        student.pirates()\n",
    "    if (row['Age'] > 18 and row['Age']< 22):\n",
    "        student.yankees()\n",
    "    if row['Age'] > 22:\n",
    "        student.bulls()\n"
   ]
  },
  {
   "cell_type": "code",
   "execution_count": 4,
   "id": "50d0c0c9",
   "metadata": {},
   "outputs": [
    {
     "name": "stdout",
     "output_type": "stream",
     "text": [
      "Done\n"
     ]
    }
   ],
   "source": [
    "#TRIAL 2\n",
    "import csv\n",
    "import pandas as pd\n",
    "\n",
    "class StudentInformationSystem:\n",
    "    def __init__(self):\n",
    "        self.data = []\n",
    "\n",
    "    def read_data(self, filename):\n",
    "        with open(filename, 'r') as csv_file:\n",
    "            csv_reader = csv.DictReader(csv_file)\n",
    "            self.data = list(csv_reader)\n",
    "\n",
    "    def classify_students(self):\n",
    "        pirates = []\n",
    "        yankees = []\n",
    "        bulls = []\n",
    "\n",
    "        for row in self.data:\n",
    "            age = int(row['Age'])\n",
    "            if age > 14 and age < 18:\n",
    "                pirates.append(row)\n",
    "            elif age > 18 and age < 22:\n",
    "                yankees.append(row)\n",
    "            elif age > 22:\n",
    "                bulls.append(row)\n",
    "\n",
    "        self.write_to_csv('The_Pirates.csv', pirates)\n",
    "        self.write_to_csv('The_Yankees.csv', yankees)\n",
    "        self.write_to_csv('The_Bulls.csv', bulls)\n",
    "\n",
    "    def write_to_csv(self, filename, students):\n",
    "        df = pd.DataFrame(students)\n",
    "        df.to_csv(filename, index=False)\n",
    "\n",
    "# Usage example\n",
    "sis = StudentInformationSystem()\n",
    "sis.read_data('SIS dataset.csv')\n",
    "sis.classify_students()\n",
    "print(\"Done\")\n"
   ]
  },
  {
   "cell_type": "code",
   "execution_count": null,
   "id": "7d7a16f5",
   "metadata": {},
   "outputs": [],
   "source": []
  },
  {
   "cell_type": "code",
   "execution_count": null,
   "id": "262916d5",
   "metadata": {},
   "outputs": [],
   "source": []
  }
 ],
 "metadata": {
  "kernelspec": {
   "display_name": "Python 3 (ipykernel)",
   "language": "python",
   "name": "python3"
  },
  "language_info": {
   "codemirror_mode": {
    "name": "ipython",
    "version": 3
   },
   "file_extension": ".py",
   "mimetype": "text/x-python",
   "name": "python",
   "nbconvert_exporter": "python",
   "pygments_lexer": "ipython3",
   "version": "3.10.9"
  }
 },
 "nbformat": 4,
 "nbformat_minor": 5
}
