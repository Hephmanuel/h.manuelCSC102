{
 "cells": [
  {
   "cell_type": "code",
   "execution_count": null,
   "id": "41777f1d",
   "metadata": {},
   "outputs": [],
   "source": [
    "# Python program to swap two cities\n",
    "\n",
    "# To take inputs from the user\n",
    "city_1 = input(\"Enter name of city 1:\")\n",
    "city_2 = input(\"Enter name of city 2:\")\n",
    "\n",
    "# Create a temporary variable and swap the cities\n",
    "temp = city_1\n",
    "city_1 = city_2\n",
    "city_2 = temp\n",
    "\n",
    "print(f\"The name of city 1 after swapping is {city_1}\")\n",
    "print(f\"The name of city 2 after swapping is {city_2}\")"
   ]
  },
  {
   "cell_type": "code",
   "execution_count": null,
   "id": "2cb081e1",
   "metadata": {},
   "outputs": [],
   "source": [
    "#Program to check if a number is Positive, Negative or 0\n",
    "\n",
    "num = float(input(\"Enter a number:\"))\n",
    "if num > 0:\n",
    "    print(\"Positive number\")\n",
    "elif num == 0:\n",
    "    print(\"Zero\")\n",
    "else:\n",
    "    print(\"Negative number\")\n"
   ]
  },
  {
   "cell_type": "code",
   "execution_count": null,
   "id": "4b99d551",
   "metadata": {},
   "outputs": [],
   "source": [
    "#COUPE DE ESCRIVA 2023: FOOTBALL PICKS\n",
    "\n",
    "print(\"Welcome to the COUPE DE ESCRIVA 2023: FOOTBALL PICKS\\n\")\n",
    "\n",
    "captain = (\"Madiba:\": \"Chubby Obiora-Okafo\", \"Blue Jays:\" :\"Christopher Umeh\",\n",
    "          \"Cirok:\" : \"Alexander\", \"TSG Walkers:\": \"Ikechukwu\")\n",
    "\n",
    "goalkeepers = (\"Madiba:\": \"Chubby Obiora-Okafo\".\n",
    "              \"Blue Jays:\" : \"Oladimeji Abanwondea/Jeffrey Awagu\",\n",
    "              \"Cirok:\": \"Timileyin Pearse/Izuako Jeremy\",\n",
    "              \"TSG Walkers:\": \"Ayomide Ojituku\")\n",
    "\n",
    "for pick in captain:\n",
    "    print(pick, captain[pick])\n",
    "print(\"\\n\")\n",
    "\n",
    "for pick in goalkeepers:\n",
    "    print(pick, goalkeepers[pick])"
   ]
  },
  {
   "cell_type": "code",
   "execution_count": null,
   "id": "5cc5e711",
   "metadata": {},
   "outputs": [],
   "source": []
  }
 ],
 "metadata": {
  "kernelspec": {
   "display_name": "Python 3 (ipykernel)",
   "language": "python",
   "name": "python3"
  },
  "language_info": {
   "codemirror_mode": {
    "name": "ipython",
    "version": 3
   },
   "file_extension": ".py",
   "mimetype": "text/x-python",
   "name": "python",
   "nbconvert_exporter": "python",
   "pygments_lexer": "ipython3",
   "version": "3.10.9"
  }
 },
 "nbformat": 4,
 "nbformat_minor": 5
}
