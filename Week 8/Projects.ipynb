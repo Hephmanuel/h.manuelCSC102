{
 "cells": [
  {
   "cell_type": "code",
   "execution_count": null,
   "id": "2ad8d998",
   "metadata": {},
   "outputs": [],
   "source": [
    "#PROJECT 1\n",
    "import random\n",
    "\n",
    "class Employees():\n",
    "    def __init__(self, name):\n",
    "        self.name = name\n",
    "    \n",
    "    def check_employee(self):\n",
    "        if self.name in employees:\n",
    "            print(\"You have been given access\")\n",
    "        else: self.refuse_access()\n",
    "                \n",
    "            \n",
    "    def take_attendance(self):\n",
    "        if self.name in employees:\n",
    "            print(\"You have been marked present\")\n",
    "        \n",
    "    def assign_task(self):\n",
    "        task = random.choice([\"Loading\", \"Transporting\", \"Reveiwing Orders\", \"Customer Service\", \"Delivering Items\"])\n",
    "        if self.name in employees: \n",
    "            print(\"Your task is \", task)\n",
    "        \n",
    "    def refuse_access(self):\n",
    "        print(\"You have been denied access\")\n",
    "        \n",
    "employees = [\"Mary Evans\", \"Eyo Ishan\", \"Durojaiye Dare\", \"Adams Ali\", \"Andrew Ugwu\", \"Stella Mankinde\", \"Jane Akibo\", \"Ago James\", \"Michell Taiwo\", \"Abraham Jones\" , \"Nicole Anide\",\n",
    "\"Kosi Korso\", \"Adele Martins\", \"Emmanuel Ojo\", \"Ajayi Fatima\"]       \n",
    "name = Employees(input(\"Enter your name:\"))\n",
    "\n",
    "name.check_employee()\n",
    "name.take_attendance()\n",
    "name.assign_task()\n"
   ]
  },
  {
   "cell_type": "code",
   "execution_count": 9,
   "id": "3a0d50a3",
   "metadata": {},
   "outputs": [
    {
     "name": "stdout",
     "output_type": "stream",
     "text": [
      "Where will this be deivered to\n",
      " 1= PAU\n",
      "2= Epe\n",
      "2\n",
      "How much does the package weigh?:3\n",
      "Your delivery fee is N4000\n"
     ]
    }
   ],
   "source": [
    "#PROJECT 2\n",
    "\n",
    "class Delivery():\n",
    "    \n",
    "    def __init__(self, location, weight):\n",
    "        self.location = location\n",
    "        self.weight = weight\n",
    "        \n",
    "    def pau(self):\n",
    "        if self.weight < 10:\n",
    "            print(\"Your delivery fee is N1500\")\n",
    "        elif self.weight >= 10:\n",
    "            print(\"Your delivery fee is N2000\")\n",
    "        \n",
    "    def epe(self):\n",
    "        if self.weight < 10:\n",
    "            print(\"Your delivery fee is N4000\")\n",
    "        elif self.weight >= 10:\n",
    "            print(\"Your delivery fee is N5000\")   \n",
    "            \n",
    "location = input(\"Where will this be deivered to\\n 1= PAU\\n2= Epe\\n\")\n",
    "weight = int(input(\"How much does the package weigh?:\"))\n",
    "\n",
    "obj = Delivery(location, weight)\n",
    "\n",
    "if location == '1':\n",
    "    obj.pau()\n",
    "if location == '2':\n",
    "    obj.epe()\n",
    "        \n",
    "        "
   ]
  },
  {
   "cell_type": "code",
   "execution_count": null,
   "id": "7caadadf",
   "metadata": {},
   "outputs": [],
   "source": []
  },
  {
   "cell_type": "code",
   "execution_count": null,
   "id": "890c0d2e",
   "metadata": {},
   "outputs": [],
   "source": []
  }
 ],
 "metadata": {
  "kernelspec": {
   "display_name": "Python 3 (ipykernel)",
   "language": "python",
   "name": "python3"
  },
  "language_info": {
   "codemirror_mode": {
    "name": "ipython",
    "version": 3
   },
   "file_extension": ".py",
   "mimetype": "text/x-python",
   "name": "python",
   "nbconvert_exporter": "python",
   "pygments_lexer": "ipython3",
   "version": "3.10.9"
  }
 },
 "nbformat": 4,
 "nbformat_minor": 5
}
