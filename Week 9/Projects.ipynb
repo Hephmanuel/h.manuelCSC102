{
 "cells": [
  {
   "cell_type": "code",
   "execution_count": 15,
   "id": "d8aff6d1",
   "metadata": {},
   "outputs": [
    {
     "name": "stdout",
     "output_type": "stream",
     "text": [
      "Enter your first name:Agatha\n",
      "Enter your division:Global banking\n",
      "Services offered are:\n",
      "\n",
      "Multi-currency management services and products\n",
      "Foreign currency accounts\n",
      "Foreign currency credit cards\n",
      "Transborder advisory services\n",
      "Liquidity management\n"
     ]
    }
   ],
   "source": [
    "#Program to display service based on employee\n",
    "\n",
    "class Zenith():\n",
    "    def unique_services(self):\n",
    "        pass\n",
    "    def mutual_services(self):\n",
    "        print(\"Lines of credit\\nInvestment management and accounts\\nInsurance\")\n",
    "    \n",
    "class Retail(Zenith):\n",
    "    def unique_services(self):\n",
    "        print(\"Services offered are:\\nRetirement and education accounts\\nLoans and mortgagges\\nChecking and saving\")\n",
    "\n",
    "class Global(Zenith):\n",
    "    def unique_services(self):\n",
    "        #no mutual services\n",
    "        print(\"Services offered are:\\n\\nMulti-currency management services and products\\nForeign currency accounts\\nForeign currency credit cards\\nTransborder advisory services\\nLiquidity management\")\n",
    "        \n",
    "class Commercial():\n",
    "    def unique_services(self):\n",
    "        print(\"Services offered are:\\nAdvisory services\")\n",
    "\n",
    "\n",
    "names = [\"Mary\",\"Agatha\",\"Noel\"]\n",
    "divisions = [\"Retail banking\",\"Global banking\",\"Commercial banking\"]\n",
    "name = input(\"Enter your first name:\")\n",
    "division = input(\"Enter your division:\")\n",
    "        \n",
    "\n",
    "obj_Mary = Retail()\n",
    "obj_Agatha = Global()\n",
    "obj_Noel = Commercial()\n",
    "\n",
    "if name == names[0] and division == divisions[0]:\n",
    "    obj_Mary.unique_services()\n",
    "    obj_Mary.mutual_services()\n",
    "elif name == names[1] and division == divisions[1]:\n",
    "    obj_Agatha.unique_services()\n",
    "elif name == names[2] and division == divisions[2]:\n",
    "    obj_Noel.unique_services()\n",
    "    obj_Noel.mutual_services()\n",
    "else:\n",
    "    print(\"Invalid user\")"
   ]
  },
  {
   "cell_type": "code",
   "execution_count": null,
   "id": "cb4a6c74",
   "metadata": {},
   "outputs": [],
   "source": []
  }
 ],
 "metadata": {
  "kernelspec": {
   "display_name": "Python 3 (ipykernel)",
   "language": "python",
   "name": "python3"
  },
  "language_info": {
   "codemirror_mode": {
    "name": "ipython",
    "version": 3
   },
   "file_extension": ".py",
   "mimetype": "text/x-python",
   "name": "python",
   "nbconvert_exporter": "python",
   "pygments_lexer": "ipython3",
   "version": "3.10.9"
  }
 },
 "nbformat": 4,
 "nbformat_minor": 5
}
