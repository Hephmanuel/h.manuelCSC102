{
 "cells": [
  {
   "cell_type": "code",
   "execution_count": 13,
   "id": "c9b07569",
   "metadata": {},
   "outputs": [
    {
     "name": "stdout",
     "output_type": "stream",
     "text": [
      "Enter your name: b\n"
     ]
    },
    {
     "ename": "TypeError",
     "evalue": "Employee() takes no arguments",
     "output_type": "error",
     "traceback": [
      "\u001b[1;31m---------------------------------------------------------------------------\u001b[0m",
      "\u001b[1;31mTypeError\u001b[0m                                 Traceback (most recent call last)",
      "Cell \u001b[1;32mIn[13], line 28\u001b[0m\n\u001b[0;32m     24\u001b[0m             \u001b[38;5;28mprint\u001b[39m(\u001b[38;5;124m\"\u001b[39m\u001b[38;5;124mYou have been denied access to the system\u001b[39m\u001b[38;5;124m\"\u001b[39m)\n\u001b[0;32m     27\u001b[0m \u001b[38;5;66;03m# Object instantiation\u001b[39;00m\n\u001b[1;32m---> 28\u001b[0m emp1 \u001b[38;5;241m=\u001b[39m \u001b[43mEmployee\u001b[49m\u001b[43m(\u001b[49m\u001b[38;5;28;43minput\u001b[39;49m\u001b[43m(\u001b[49m\u001b[38;5;124;43m\"\u001b[39;49m\u001b[38;5;124;43mEnter your name: \u001b[39;49m\u001b[38;5;124;43m\"\u001b[39;49m\u001b[43m)\u001b[49m\u001b[43m)\u001b[49m\n\u001b[0;32m     30\u001b[0m emp1\u001b[38;5;241m.\u001b[39mcheck_employee()\n\u001b[0;32m     31\u001b[0m emp1\u001b[38;5;241m.\u001b[39mtake_attendance()\n",
      "\u001b[1;31mTypeError\u001b[0m: Employee() takes no arguments"
     ]
    }
   ],
   "source": [
    "import random\n",
    "\n",
    "class Employee():\n",
    "    def __init__(self):\n",
    "        \n",
    "    \n",
    "    employees = \"Mary Evans\", \"Eyo Ishan\", \"Durojaiye Dare\", \"Adams Ali\",\n",
    "    \"Andrew Ugwu\", \"Stella Mankinde\", \"Jane Akibo\", \"Ago James\", \"Michell Taiwo\",\n",
    "    \"Abraham Jones\" , \"Nicole Anide\", \"Kosi Korso\", \"Adele Martins\", \"Emmanuel Ojo\", \"Ajayi Fatima\"\n",
    "        \n",
    "    tasks = \"Loading\", \"Transporting\", \"Reveiwing Orders\", \"Customer Service\", \"Delivering Items\"\n",
    "    \n",
    "    def check_employee(self):\n",
    "        for employee in employees:\n",
    "            if emp1 == employee:\n",
    "                print(\"You have been granted access\")\n",
    "\n",
    "    def take_attendance(self):\n",
    "        print(name)\n",
    "    \n",
    "    def assign_task(self):\n",
    "        print(\"Your task is\",random.randint(task))\n",
    "    \n",
    "    def refuse_access(self):\n",
    "        if emp1 != employee:\n",
    "            print(\"You have been denied access to the system\")\n",
    "            \n",
    "    \n",
    "# Object instantiation\n",
    "emp1 = Employee(input(\"Enter your name: \"))\n",
    "\n",
    "emp1.check_employee()\n",
    "emp1.take_attendance()\n",
    "emp1.assign_task()\n",
    "emp1.refuse_access()"
   ]
  },
  {
   "cell_type": "code",
   "execution_count": null,
   "id": "6e090049",
   "metadata": {},
   "outputs": [],
   "source": []
  }
 ],
 "metadata": {
  "kernelspec": {
   "display_name": "Python 3 (ipykernel)",
   "language": "python",
   "name": "python3"
  },
  "language_info": {
   "codemirror_mode": {
    "name": "ipython",
    "version": 3
   },
   "file_extension": ".py",
   "mimetype": "text/x-python",
   "name": "python",
   "nbconvert_exporter": "python",
   "pygments_lexer": "ipython3",
   "version": "3.10.9"
  }
 },
 "nbformat": 4,
 "nbformat_minor": 5
}
