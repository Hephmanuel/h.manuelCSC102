{
 "cells": [
  {
   "cell_type": "code",
   "execution_count": 6,
   "id": "b710a4dc",
   "metadata": {},
   "outputs": [
    {
     "name": "stdout",
     "output_type": "stream",
     "text": [
      "    NAME   |     AGE     | HEIGHT | SCORE\n",
      "\n"
     ]
    },
    {
     "ename": "NameError",
     "evalue": "name 'height' is not defined",
     "output_type": "error",
     "traceback": [
      "\u001b[1;31m---------------------------------------------------------------------------\u001b[0m",
      "\u001b[1;31mNameError\u001b[0m                                 Traceback (most recent call last)",
      "Cell \u001b[1;32mIn[6], line 19\u001b[0m\n\u001b[0;32m     17\u001b[0m \u001b[38;5;28;01mfor\u001b[39;00m heght \u001b[38;5;129;01min\u001b[39;00m heights:\n\u001b[0;32m     18\u001b[0m     \u001b[38;5;28;01mfor\u001b[39;00m score \u001b[38;5;129;01min\u001b[39;00m scores:\n\u001b[1;32m---> 19\u001b[0m         \u001b[38;5;28mprint\u001b[39m(name,\u001b[38;5;124m\"\u001b[39m\u001b[38;5;124m    \u001b[39m\u001b[38;5;124m\"\u001b[39m , age,\u001b[38;5;124m\"\u001b[39m\u001b[38;5;124m         \u001b[39m\u001b[38;5;124m\"\u001b[39m ,\u001b[43mheight\u001b[49m,\u001b[38;5;124m\"\u001b[39m\u001b[38;5;124m         \u001b[39m\u001b[38;5;124m\"\u001b[39m, score)\n\u001b[0;32m     20\u001b[0m         \u001b[38;5;28mprint\u001b[39m(\u001b[38;5;124m\"\u001b[39m\u001b[38;5;130;01m\\n\u001b[39;00m\u001b[38;5;124m\"\u001b[39m)\n",
      "\u001b[1;31mNameError\u001b[0m: name 'height' is not defined"
     ]
    }
   ],
   "source": [
    "#project 1\n",
    "names = (\"Samantha\", \"Jada\",\"Jane\",\"Claire\",\"Elizabeth\",\"Mary\",\"Susan\",\"Waje\",\n",
    "        \"Charles\",\"Jude\",\"James\",\"Kelvin\",\"Biodun\",\"Wale\",\"Kunle\",\"Matthew\",\"Tom\",\n",
    "        \"Kayode\")\n",
    "\n",
    "ages = (17,18,17,18,16,18, 17, 20,19, 17,19,16,18, 17, 20, 29, 19, 18, 17, 19)\n",
    "\n",
    "heights = (5.5, 6.0, 5.4, 5.9, 5.6, 5.5, 6.1, 6.0, 5.7, 5.5, 5.7, 5.9, 5.8,\n",
    "         6.1, 5.9, 5.5, 6.1, 5.4, 5.8, 5.7)\n",
    "\n",
    "scores = (80,85, 70, 60, 76, 66, 87, 95, 50, 49, 74, 87, 75, 68, 66, 78, 87, 98, 54, 60)\n",
    "\n",
    "print(\"    NAME   |     AGE     | HEIGHT | SCORE\")\n",
    "print()\n",
    "for name in names:\n",
    "    for age in ages:\n",
    "        for heght in heights:\n",
    "            for score in scores:\n",
    "                print(name,\"    \" , age,\"         \" ,height,\"         \", score)\n",
    "                print(\"\\n\")\n",
    "    \n",
    "\n",
    "\n",
    "    "
   ]
  },
  {
   "cell_type": "code",
   "execution_count": 16,
   "id": "5588403f",
   "metadata": {},
   "outputs": [
    {
     "name": "stdout",
     "output_type": "stream",
     "text": [
      "How many years of experience do you have?69\n",
      "Enter your age:49\n",
      "\n",
      "Your ATR IS n4,480,000\n"
     ]
    }
   ],
   "source": [
    "#PROJECT 2\n",
    "years = int(input(\"How many years of experience do you have?\"))\n",
    "age = int(input(\"Enter your age:\"))\n",
    "\n",
    "print()\n",
    "if years >= 25 and age >= 55 :\n",
    "            print(\"Your annual tax revenue is  NN5,600,000\")\n",
    "elif years >= 20 and age >= 45:\n",
    "            print(\"Your ATR IS n4,480,000\")\n",
    "elif years >= 10 and age >= 35:\n",
    "            print(\"Your ATR is N1,500,000\")\n",
    "elif years < 10 and age < 35:\n",
    "            print(\"Your ATR is 550,000\")\n",
    "else:\n",
    "            print(\"Invalid\")"
   ]
  },
  {
   "cell_type": "code",
   "execution_count": null,
   "id": "76e62eb6",
   "metadata": {},
   "outputs": [],
   "source": []
  }
 ],
 "metadata": {
  "kernelspec": {
   "display_name": "Python 3 (ipykernel)",
   "language": "python",
   "name": "python3"
  },
  "language_info": {
   "codemirror_mode": {
    "name": "ipython",
    "version": 3
   },
   "file_extension": ".py",
   "mimetype": "text/x-python",
   "name": "python",
   "nbconvert_exporter": "python",
   "pygments_lexer": "ipython3",
   "version": "3.10.9"
  }
 },
 "nbformat": 4,
 "nbformat_minor": 5
}
