{
 "cells": [
  {
   "cell_type": "code",
   "execution_count": 10,
   "id": "b710a4dc",
   "metadata": {},
   "outputs": [
    {
     "name": "stdout",
     "output_type": "stream",
     "text": [
      "    NAME   |     AGE     | HEIGHT | SCORE\n",
      "\n",
      "Samantha        17        5.5        80\n",
      "Jada        18        6.0        85\n",
      "Jane        17        5.4        70\n",
      "Claire        18        5.9        60\n",
      "Elizabeth        16        5.6        76\n",
      "Mary        18        5.5        66\n",
      "Susan        17        6.1        87\n",
      "Waje        20        6.0        95\n",
      "Charles        19        5.7        50\n",
      "Jude        17        5.5        49\n"
     ]
    }
   ],
   "source": [
    "#project 1\n",
    "names = (\"Samantha\", \"Jada\",\"Jane\",\"Claire\",\"Elizabeth\",\"Mary\",\"Susan\",\"Waje\",\n",
    "        \"Charles\",\"Jude\",\"James\",\"Kelvin\",\"Biodun\",\"Wale\",\"Kunle\",\"Matthew\",\"Tom\",\n",
    "        \"Kayode\")\n",
    "\n",
    "ages = (17,18,17,18,16,18, 17, 20,19, 17,19,16,18, 17, 20, 29, 19, 18, 17, 19)\n",
    "\n",
    "heights = (5.5, 6.0, 5.4, 5.9, 5.6, 5.5, 6.1, 6.0, 5.7, 5.5, 5.7, 5.9, 5.8,\n",
    "         6.1, 5.9, 5.5, 6.1, 5.4, 5.8, 5.7)\n",
    "\n",
    "scores = (80,85, 70, 60, 76, 66, 87, 95, 50, 49, 74, 87, 75, 68, 66, 78, 87, 98, 54, 60)\n",
    "\n",
    "print(\"    NAME   |     AGE     | HEIGHT | SCORE\")\n",
    "print()\n",
    "\n",
    "for i in range(10):\n",
    "    print(names[i],\"      \", ages[i],\"      \", heights[i],\"      \",scores[i])\n",
    "    \n",
    "\n",
    "   \n",
    " \n",
    "    \n",
    "\n",
    "\n",
    "    "
   ]
  },
  {
   "cell_type": "code",
   "execution_count": 16,
   "id": "5588403f",
   "metadata": {},
   "outputs": [
    {
     "name": "stdout",
     "output_type": "stream",
     "text": [
      "How many years of experience do you have?69\n",
      "Enter your age:49\n",
      "\n",
      "Your ATR IS n4,480,000\n"
     ]
    }
   ],
   "source": [
    "#PROJECT 2\n",
    "years = int(input(\"How many years of experience do you have?\"))\n",
    "age = int(input(\"Enter your age:\"))\n",
    "\n",
    "print()\n",
    "if years >= 25 and age >= 55 :\n",
    "            print(\"Your annual tax revenue is  NN5,600,000\")\n",
    "elif years >= 20 and age >= 45:\n",
    "            print(\"Your ATR IS n4,480,000\")\n",
    "elif years >= 10 and age >= 35:\n",
    "            print(\"Your ATR is N1,500,000\")\n",
    "elif years < 10 and age < 35:\n",
    "            print(\"Your ATR is 550,000\")\n",
    "else:\n",
    "            print(\"Invalid\")"
   ]
  },
  {
   "cell_type": "code",
   "execution_count": null,
   "id": "76e62eb6",
   "metadata": {},
   "outputs": [],
   "source": []
  }
 ],
 "metadata": {
  "kernelspec": {
   "display_name": "Python 3 (ipykernel)",
   "language": "python",
   "name": "python3"
  },
  "language_info": {
   "codemirror_mode": {
    "name": "ipython",
    "version": 3
   },
   "file_extension": ".py",
   "mimetype": "text/x-python",
   "name": "python",
   "nbconvert_exporter": "python",
   "pygments_lexer": "ipython3",
   "version": "3.10.9"
  }
 },
 "nbformat": 4,
 "nbformat_minor": 5
}
