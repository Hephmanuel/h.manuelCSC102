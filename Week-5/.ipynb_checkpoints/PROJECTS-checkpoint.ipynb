{
 "cells": [
  {
   "cell_type": "code",
   "execution_count": 1,
   "id": "e8d4e40d",
   "metadata": {},
   "outputs": [
    {
     "ename": "NameError",
     "evalue": "name 'NAME' is not defined",
     "output_type": "error",
     "traceback": [
      "\u001b[1;31m---------------------------------------------------------------------------\u001b[0m",
      "\u001b[1;31mNameError\u001b[0m                                 Traceback (most recent call last)",
      "Cell \u001b[1;32mIn[1], line 13\u001b[0m\n\u001b[0;32m      8\u001b[0m height \u001b[38;5;241m=\u001b[39m (\u001b[38;5;241m5.5\u001b[39m, \u001b[38;5;241m6.0\u001b[39m, \u001b[38;5;241m5.4\u001b[39m, \u001b[38;5;241m5.9\u001b[39m, \u001b[38;5;241m5.6\u001b[39m, \u001b[38;5;241m5.5\u001b[39m, \u001b[38;5;241m6.1\u001b[39m, \u001b[38;5;241m6.0\u001b[39m, \u001b[38;5;241m5.7\u001b[39m, \u001b[38;5;241m5.5\u001b[39m, \u001b[38;5;241m5.7\u001b[39m, \u001b[38;5;241m5.9\u001b[39m, \u001b[38;5;241m5.8\u001b[39m,\n\u001b[0;32m      9\u001b[0m          \u001b[38;5;241m6.1\u001b[39m, \u001b[38;5;241m5.9\u001b[39m, \u001b[38;5;241m5.5\u001b[39m, \u001b[38;5;241m6.1\u001b[39m, \u001b[38;5;241m5.4\u001b[39m, \u001b[38;5;241m5.8\u001b[39m, \u001b[38;5;241m5.7\u001b[39m)\n\u001b[0;32m     11\u001b[0m scores \u001b[38;5;241m=\u001b[39m (\u001b[38;5;241m80\u001b[39m,\u001b[38;5;241m85\u001b[39m, \u001b[38;5;241m70\u001b[39m, \u001b[38;5;241m60\u001b[39m, \u001b[38;5;241m76\u001b[39m, \u001b[38;5;241m66\u001b[39m, \u001b[38;5;241m87\u001b[39m, \u001b[38;5;241m95\u001b[39m, \u001b[38;5;241m50\u001b[39m, \u001b[38;5;241m49\u001b[39m, \u001b[38;5;241m74\u001b[39m, \u001b[38;5;241m87\u001b[39m, \u001b[38;5;241m75\u001b[39m, \u001b[38;5;241m68\u001b[39m, \u001b[38;5;241m66\u001b[39m, \u001b[38;5;241m78\u001b[39m, \u001b[38;5;241m87\u001b[39m, \u001b[38;5;241m98\u001b[39m, \u001b[38;5;241m54\u001b[39m, \u001b[38;5;241m60\u001b[39m)\n\u001b[1;32m---> 13\u001b[0m \u001b[38;5;28mprint\u001b[39m(\u001b[43mNAME\u001b[49m \u001b[38;5;241m|\u001b[39m AGE \u001b[38;5;241m|\u001b[39m HEIGHT \u001b[38;5;241m|\u001b[39m SCORE)\n\u001b[0;32m     14\u001b[0m \u001b[38;5;28;01mfor\u001b[39;00m name \u001b[38;5;129;01min\u001b[39;00m names:\n\u001b[0;32m     15\u001b[0m     \u001b[38;5;28mprint\u001b[39m(name, \u001b[38;5;124m\"\u001b[39m\u001b[38;5;130;01m\\n\u001b[39;00m\u001b[38;5;124m\"\u001b[39m)\n",
      "\u001b[1;31mNameError\u001b[0m: name 'NAME' is not defined"
     ]
    }
   ],
   "source": [
    "#project 1\n",
    "names = (\"Samantha\", \"Jada\",\"Jane\",\"Claire\",\"Elizabeth\",\"Mary\",\"Susan\",\"Waje\",\n",
    "        \"Charles\",\"Jude\",\"James\",\"Kelvin\",\"Biodun\",\"Wale\",\"Kunle\",\"Matthew\",\"Tom\",\n",
    "        \"Kayode\")\n",
    "\n",
    "ages = (17,18,17,18,16,18, 17, 20,19, 17,19,16,18, 17, 20, 29, 19, 18, 17, 19)\n",
    "\n",
    "height = (5.5, 6.0, 5.4, 5.9, 5.6, 5.5, 6.1, 6.0, 5.7, 5.5, 5.7, 5.9, 5.8,\n",
    "         6.1, 5.9, 5.5, 6.1, 5.4, 5.8, 5.7)\n",
    "\n",
    "scores = (80,85, 70, 60, 76, 66, 87, 95, 50, 49, 74, 87, 75, 68, 66, 78, 87, 98, 54, 60)\n",
    "\n",
    "print(\"NAME | AGE | HEIGHT | SCORE\")\n",
    "for name in names:\n",
    "    print(name, \"\\n\")\n",
    "    "
   ]
  },
  {
   "cell_type": "code",
   "execution_count": null,
   "id": "77952381",
   "metadata": {},
   "outputs": [],
   "source": []
  }
 ],
 "metadata": {
  "kernelspec": {
   "display_name": "Python 3 (ipykernel)",
   "language": "python",
   "name": "python3"
  },
  "language_info": {
   "codemirror_mode": {
    "name": "ipython",
    "version": 3
   },
   "file_extension": ".py",
   "mimetype": "text/x-python",
   "name": "python",
   "nbconvert_exporter": "python",
   "pygments_lexer": "ipython3",
   "version": "3.10.9"
  }
 },
 "nbformat": 4,
 "nbformat_minor": 5
}
