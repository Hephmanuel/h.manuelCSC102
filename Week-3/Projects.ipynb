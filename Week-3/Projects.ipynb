{
 "cells": [
  {
   "cell_type": "code",
   "execution_count": 3,
   "id": "a22bbea6",
   "metadata": {},
   "outputs": [
    {
     "name": "stdout",
     "output_type": "stream",
     "text": [
      "Enter the coefficient of x^3: 2\n",
      "Enter the coefficient of x^2: -30\n",
      "Enter the coefficient of x: 162\n",
      "Enter the constant term: -350\n",
      "The roots of the equation are (8.392377077338688+5.31089266668199j) (7.90317942744974-5.0284542718316745j) (-1.2955565047884283-0.2824383948503151j)\n"
     ]
    }
   ],
   "source": [
    "#Code to find roots of a cubic equation\n",
    "a = int(input(\"Enter the coefficient of x^3: \"))\n",
    "b = int(input(\"Enter the coefficient of x^2: \"))\n",
    "c = int(input(\"Enter the coefficient of x: \"))\n",
    "d = int(input(\"Enter the constant term: \"))\n",
    "\n",
    "if a > 1:\n",
    "    b = b/a\n",
    "    c= c/a\n",
    "    d = d/a\n",
    "\n",
    "\n",
    "q = (3*c - b**2) / 9\n",
    "r = (9*b*c - 27*d - 2*a**3)/54\n",
    "s = ((r + (q**3 + r**2)**0.5)**(1/3))\n",
    "t = ((r - (q**3 + r**2)**0.5)**(1/3))\n",
    "\n",
    "x1 = s + t - (b/3)\n",
    "x2 = -0.5*(s + t) - (b/3) + 0.5j*(3**0.5)*(s-t)\n",
    "x3 = -0.5*(s + t) - (b/3) - 0.5j*(3**0.5)*(s-t)\n",
    "\n",
    "print(\"The roots of the equation are\", x1, x2, x3)\n"
   ]
  },
  {
   "cell_type": "code",
   "execution_count": null,
   "id": "766b33fb",
   "metadata": {},
   "outputs": [],
   "source": [
    "#Code to find the roots of a quartic equation\n",
    "a = int(input(\"Enter the coefficient of x^4: \"))\n",
    "b = int(input(\"Enter the coefficient of x^3: \"))\n",
    "c = int(input(\"Enter the coefficient of x^2: \"))\n",
    "d = int(input(\"Enter the coefficient of x: \"))\n",
    "e = int(input(\"Enter the constant term: \"))"
   ]
  }
 ],
 "metadata": {
  "kernelspec": {
   "display_name": "Python 3 (ipykernel)",
   "language": "python",
   "name": "python3"
  },
  "language_info": {
   "codemirror_mode": {
    "name": "ipython",
    "version": 3
   },
   "file_extension": ".py",
   "mimetype": "text/x-python",
   "name": "python",
   "nbconvert_exporter": "python",
   "pygments_lexer": "ipython3",
   "version": "3.10.9"
  }
 },
 "nbformat": 4,
 "nbformat_minor": 5
}
