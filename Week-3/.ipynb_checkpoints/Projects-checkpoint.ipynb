{
 "cells": [
  {
   "cell_type": "code",
   "execution_count": 2,
   "id": "a22bbea6",
   "metadata": {},
   "outputs": [
    {
     "name": "stdout",
     "output_type": "stream",
     "text": [
      "Enter the coefficient of x^3: 2\n",
      "Enter the coefficient of x^2: 3\n",
      "Enter the coefficient of x: 4\n",
      "Enter the constant term: 5\n"
     ]
    },
    {
     "ename": "TypeError",
     "evalue": "'>' not supported between instances of 'str' and 'int'",
     "output_type": "error",
     "traceback": [
      "\u001b[1;31m---------------------------------------------------------------------------\u001b[0m",
      "\u001b[1;31mTypeError\u001b[0m                                 Traceback (most recent call last)",
      "Cell \u001b[1;32mIn[2], line 7\u001b[0m\n\u001b[0;32m      4\u001b[0m c \u001b[38;5;241m=\u001b[39m \u001b[38;5;28minput\u001b[39m(\u001b[38;5;124m\"\u001b[39m\u001b[38;5;124mEnter the coefficient of x: \u001b[39m\u001b[38;5;124m\"\u001b[39m)\n\u001b[0;32m      5\u001b[0m d \u001b[38;5;241m=\u001b[39m \u001b[38;5;28minput\u001b[39m(\u001b[38;5;124m\"\u001b[39m\u001b[38;5;124mEnter the constant term: \u001b[39m\u001b[38;5;124m\"\u001b[39m)\n\u001b[1;32m----> 7\u001b[0m \u001b[38;5;28;01mif\u001b[39;00m \u001b[43ma\u001b[49m\u001b[43m \u001b[49m\u001b[38;5;241;43m>\u001b[39;49m\u001b[43m \u001b[49m\u001b[38;5;241;43m1\u001b[39;49m:\n\u001b[0;32m      8\u001b[0m     b \u001b[38;5;241m=\u001b[39m b\u001b[38;5;241m/\u001b[39ma\n\u001b[0;32m      9\u001b[0m     c\u001b[38;5;241m=\u001b[39m c\u001b[38;5;241m/\u001b[39ma\n",
      "\u001b[1;31mTypeError\u001b[0m: '>' not supported between instances of 'str' and 'int'"
     ]
    }
   ],
   "source": [
    "#Code to find roots of a cubic equation\n",
    "a = int(input(\"Enter the coefficient of x^3: \"))\n",
    "b = int(input(\"Enter the coefficient of x^2: \"))\n",
    "c = int(input(\"Enter the coefficient of x: \"))\n",
    "d = int(input(\"Enter the constant term: \"))\n",
    "\n",
    "if a > 1:\n",
    "    b = b/a\n",
    "    c= c/a\n",
    "    d = d/a\n",
    "\n",
    "'''q = (3*c - b**2) / 9\n",
    "r = (9*b*c - 27*d - 2*a**3)/54\n",
    "s = (r + (q^^3 + r^^3)^^(1/2))^^1/3\n",
    "t = (r + (q^^3 + r^^3)^^(1/2))^^1/3\n",
    "\n",
    "\n",
    "x1 = s + t - ((1/3)*b)\n",
    "x2 = -0.5(s + t) - ((1/3)*b) + (1/2)*(sqrt(-1))*sqrt(3)*(s-t)\n",
    "x3 = -0.5(s + t) - ((1/3)*b) - (1/2)*(sqrt(-1))*sqrt(3)*(s-t)'''\n",
    "\n",
    "q = (3*c - b**2) / 9\n",
    "r = (9*b*c - 27*d - 2*a**3)/54\n",
    "s = ((r + (q**3 + r**2)**0.5)**(1/3))\n",
    "t = ((r - (q**3 + r**2)**0.5)**(1/3))\n",
    "\n",
    "x1 = s + t - (b/3)\n",
    "x2 = -0.5*(s + t) - (b/3) + 0.5j*(3**0.5)*(s-t)\n",
    "x3 = -0.5*(s + t) - (b/3) - 0.5j*(3**0.5)*(s-t)\n",
    "\n",
    "print(\"The roots of the equation are\", x1, x2, x3)\n"
   ]
  },
  {
   "cell_type": "code",
   "execution_count": null,
   "id": "9899a8b6",
   "metadata": {},
   "outputs": [],
   "source": []
  }
 ],
 "metadata": {
  "kernelspec": {
   "display_name": "Python 3 (ipykernel)",
   "language": "python",
   "name": "python3"
  },
  "language_info": {
   "codemirror_mode": {
    "name": "ipython",
    "version": 3
   },
   "file_extension": ".py",
   "mimetype": "text/x-python",
   "name": "python",
   "nbconvert_exporter": "python",
   "pygments_lexer": "ipython3",
   "version": "3.10.9"
  }
 },
 "nbformat": 4,
 "nbformat_minor": 5
}
