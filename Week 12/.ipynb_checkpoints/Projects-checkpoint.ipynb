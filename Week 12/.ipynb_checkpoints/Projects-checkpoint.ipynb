{
 "cells": [
  {
   "cell_type": "code",
   "execution_count": 1,
   "id": "74f88324",
   "metadata": {},
   "outputs": [
    {
     "name": "stdout",
     "output_type": "stream",
     "text": [
      "Enter your preffered club:Madiba_FC\n",
      "Welcome to Madiba FC!\n"
     ]
    }
   ],
   "source": [
    "#PROJECT 1\n",
    "from abc import ABC, abstractmethod\n",
    "\n",
    "\n",
    "class coupe_de_escriva(ABC):\n",
    "    @abstractmethod\n",
    "    def Fan_Page(self):\n",
    "        pass\n",
    "\n",
    "class FC_Cirok(coupe_de_escriva):\n",
    "     def Fan_Page(self):\n",
    "        print(\"Welcome to FC Cirok!\")      \n",
    "class Madiba_FC(coupe_de_escriva):\n",
    "    def Fan_Page(self):\n",
    "        print(\"Welcome to Madiba FC!\")\n",
    "class Blue_Jay_FC(coupe_de_escriva):\n",
    "    def Fan_Page(self):\n",
    "        print(\"Welcome to Blue Jay FC!\")\n",
    "class TSG_Walker(coupe_de_escriva):\n",
    "    def Fan_Page(self):\n",
    "        print(\"Welcome to TSG Walker FC!\")\n",
    "        \n",
    "        \n",
    "person1 = FC_Cirok()\n",
    "person2 = Madiba_FC()\n",
    "person3 = Blue_Jay_FC()\n",
    "person4 = TSG_Walker() \n",
    "\n",
    "club = input(\"Enter your preffered club:\")\n",
    "\n",
    "if club == \"FC Cirok\":\n",
    "    person1.Fan_Page()\n",
    "elif club == \"Madiba_FC\":\n",
    "    person2.Fan_Page()\n",
    "elif club == \"Blue Jay FC\":\n",
    "    person3.Fan_Page()\n",
    "elif club == \"TSG Walker\":\n",
    "    person4.Fan_Page()\n",
    "else:\n",
    "    print(\"Invalid club\")\n",
    "\n",
    "        \n",
    "    \n",
    "    "
   ]
  },
  {
   "cell_type": "code",
   "execution_count": null,
   "id": "192ca350",
   "metadata": {},
   "outputs": [],
   "source": [
    "#PROJECT 2\n",
    "\n",
    "from abc import ABC\n",
    "class External_Vendors(ABC):\n",
    "    @abstractmethod\n",
    "    def menu(self):\n",
    "        pass\n",
    "\n",
    "class Cooperative Cafeteria(self)"
   ]
  },
  {
   "cell_type": "code",
   "execution_count": null,
   "id": "ec9eef6e",
   "metadata": {},
   "outputs": [],
   "source": []
  }
 ],
 "metadata": {
  "kernelspec": {
   "display_name": "Python 3 (ipykernel)",
   "language": "python",
   "name": "python3"
  },
  "language_info": {
   "codemirror_mode": {
    "name": "ipython",
    "version": 3
   },
   "file_extension": ".py",
   "mimetype": "text/x-python",
   "name": "python",
   "nbconvert_exporter": "python",
   "pygments_lexer": "ipython3",
   "version": "3.10.9"
  }
 },
 "nbformat": 4,
 "nbformat_minor": 5
}
