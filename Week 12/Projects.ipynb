{
 "cells": [
  {
   "cell_type": "code",
   "execution_count": 1,
   "id": "74f88324",
   "metadata": {},
   "outputs": [
    {
     "name": "stdout",
     "output_type": "stream",
     "text": [
      "Enter your preffered club:Madiba_FC\n",
      "Welcome to Madiba FC!\n"
     ]
    }
   ],
   "source": [
    "#PROJECT 1\n",
    "from abc import ABC, abstractmethod\n",
    "\n",
    "\n",
    "class coupe_de_escriva(ABC):\n",
    "    @abstractmethod\n",
    "    def Fan_Page(self):\n",
    "        pass\n",
    "\n",
    "class FC_Cirok(coupe_de_escriva):\n",
    "     def Fan_Page(self):\n",
    "        print(\"Welcome to FC Cirok!\")      \n",
    "class Madiba_FC(coupe_de_escriva):\n",
    "    def Fan_Page(self):\n",
    "        print(\"Welcome to Madiba FC!\")\n",
    "class Blue_Jay_FC(coupe_de_escriva):\n",
    "    def Fan_Page(self):\n",
    "        print(\"Welcome to Blue Jay FC!\")\n",
    "class TSG_Walker(coupe_de_escriva):\n",
    "    def Fan_Page(self):\n",
    "        print(\"Welcome to TSG Walker FC!\")\n",
    "        \n",
    "        \n",
    "person1 = FC_Cirok()\n",
    "person2 = Madiba_FC()\n",
    "person3 = Blue_Jay_FC()\n",
    "person4 = TSG_Walker() \n",
    "\n",
    "club = input(\"Enter your preffered club:\")\n",
    "\n",
    "if club == \"FC Cirok\":\n",
    "    person1.Fan_Page()\n",
    "elif club == \"Madiba_FC\":\n",
    "    person2.Fan_Page()\n",
    "elif club == \"Blue Jay FC\":\n",
    "    person3.Fan_Page()\n",
    "elif club == \"TSG Walker\":\n",
    "    person4.Fan_Page()\n",
    "else:\n",
    "    print(\"Invalid club\")\n",
    "\n",
    "        \n",
    "    \n",
    "    "
   ]
  },
  {
   "cell_type": "code",
   "execution_count": 11,
   "id": "192ca350",
   "metadata": {},
   "outputs": [
    {
     "name": "stdout",
     "output_type": "stream",
     "text": [
      "Enter your preferred cafeteria:\n",
      "1 - Cooperative Cafteria\n",
      "2 - Faith Hostel Cafeteria\n",
      "3 - Student Centre Cafeteria2\n",
      "             Main Meal Price (N)\n",
      "0           Fried Rice       400\n",
      "1  White Rice and Stew       400\n",
      "2          Jollof Rice       400\n",
      "3                Beans       200\n",
      "4              Chicken      1000\n"
     ]
    }
   ],
   "source": [
    "#PROJECT 2\n",
    "import pandas as pd\n",
    "from abc import ABC, abstractmethod\n",
    "class External_Vendors(ABC):\n",
    "    @abstractmethod\n",
    "    def menu(self):\n",
    "        pass\n",
    "\n",
    "class Coop_Caf(External_Vendors):\n",
    "    coop = {'Main Meal':['Jollof Rice and Stew','White Rice and Stew','Fried Rice','Salad','Plantain'],\n",
    "            'Price (N)':['200','200','200','100','100']}\n",
    "    \n",
    "    def menu(self):\n",
    "        df = pd.DataFrame(Coop_Caf.coop)\n",
    "        print(df)\n",
    "        \n",
    "class Faith_Caf(External_Vendors):\n",
    "    Faith = {'Main Meal':['Fried Rice','White Rice and Stew','Jollof Rice','Beans','Chicken'],\n",
    "            'Price (N)':['400','400','400','200','1000']}\n",
    "    \n",
    "    def menu(self):\n",
    "        df = pd.DataFrame(Faith_Caf.Faith)\n",
    "        print(df)\n",
    "\n",
    "class Student_Caf(External_Vendors):\n",
    "    Stud_caf = {'Main Meal': ['Chicken Fried Rice','Pomo Sauce','Spaghetti Jollof','Amala/Ewedu','Semo with Eforiro soup'],\n",
    "               'Price (N)':['800','300','500','500','500']}\n",
    "    \n",
    "    def menu(self):\n",
    "        df = pd.DataFrame(Student_Caf.Stud_caf)\n",
    "        print(df)       \n",
    "        \n",
    "\n",
    "student = Coop_Caf()\n",
    "student2 = Faith_Caf()\n",
    "student3 = Student_Caf()\n",
    "\n",
    "\n",
    "cafeteria = int(input(\"Enter your preferred cafeteria:\\n1 - Cooperative Cafeteria\\n2 - Faith Hostel Cafeteria\\n3 - Student Centre Cafeteria\"))\n",
    "if cafeteria == 1:\n",
    "    student.menu()\n",
    "elif cafeteria == 2:\n",
    "    student2.menu()\n",
    "elif cafeteria ==3:\n",
    "    student3.menu()\n",
    "else:\n",
    "    print(\"Cafeteria not found\")\n",
    "    \n",
    "\n",
    "\n",
    "\n",
    "    \n",
    "    \n",
    "    "
   ]
  },
  {
   "cell_type": "code",
   "execution_count": null,
   "id": "ec9eef6e",
   "metadata": {},
   "outputs": [],
   "source": []
  }
 ],
 "metadata": {
  "kernelspec": {
   "display_name": "Python 3 (ipykernel)",
   "language": "python",
   "name": "python3"
  },
  "language_info": {
   "codemirror_mode": {
    "name": "ipython",
    "version": 3
   },
   "file_extension": ".py",
   "mimetype": "text/x-python",
   "name": "python",
   "nbconvert_exporter": "python",
   "pygments_lexer": "ipython3",
   "version": "3.10.9"
  }
 },
 "nbformat": 4,
 "nbformat_minor": 5
}
