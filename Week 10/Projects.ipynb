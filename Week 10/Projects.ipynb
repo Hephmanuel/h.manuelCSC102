{
 "cells": [
  {
   "cell_type": "code",
   "execution_count": 1,
   "id": "03c1b35d",
   "metadata": {},
   "outputs": [
    {
     "name": "stdout",
     "output_type": "stream",
     "text": [
      "The cost of an orange is N70\n",
      "How many oranges would you like?:21\n",
      "Request exceeds stock available\n",
      "The cost of an orange is N70\n",
      "How many oranges would you like?:3\n",
      "Your cost is 210\n"
     ]
    }
   ],
   "source": [
    "#Project 1\n",
    "while True:\n",
    "    print(\"The cost of an orange is N70\")\n",
    "    request = int(input(\"How many oranges would you like?:\"))\n",
    "    cost = 70\n",
    "    stock = 20\n",
    "    price = cost * request\n",
    "\n",
    "    class Oranges():\n",
    "        def stock(self,price):\n",
    "            print(\"Your cost is\",price)\n",
    "            return False\n",
    "        \n",
    "        def stock_error(self):\n",
    "            print(\"Request exceeds stock available\")\n",
    "            return True\n",
    "        \n",
    "    obj = Oranges()\n",
    "    if request > 20:\n",
    "        obj.stock_error()\n",
    "    elif request < 20:\n",
    "        obj.stock(price)\n",
    "        break\n",
    "        "
   ]
  },
  {
   "cell_type": "code",
   "execution_count": 2,
   "id": "e183ab3e",
   "metadata": {},
   "outputs": [
    {
     "name": "stdout",
     "output_type": "stream",
     "text": [
      "Enter an operation:\n",
      "Trapezium - 1\n",
      "Rhombus - 2\n",
      "Parallelogram - 3\n",
      "Cube - 4\n",
      "Cylinder - 54\n",
      "Enter the length of side:7\n",
      "The area is: 294\n"
     ]
    }
   ],
   "source": [
    "#Project 2\n",
    "class Calculation():\n",
    "    def trapezium(self):\n",
    "        self.h = int(input(\"Enter height\"))\n",
    "        self.b1 = int(input(\"Enter length of base 1:\"))\n",
    "        self.b2 = int(input(\"Enter length of base 2:\"))\n",
    "        \n",
    "        area = (self.h/2)*(self.b1 + self.b2)\n",
    "        print(area)\n",
    "    def rhombus(self):\n",
    "        d1 = int(input(\"Enter length of diagonal 1:\"))\n",
    "        d2 = int(input(\"Enter length of diagonal 2:\"))\n",
    "        \n",
    "        area = (d1^d2)/2\n",
    "        print(\"The area is:\",area)\n",
    "         \n",
    "    def parallelogram(self):\n",
    "        b = int(input(\"Enter the length of base:\"))\n",
    "        a = int(input(\"Enter the length of altitude\"))\n",
    "        \n",
    "        area = b*a\n",
    "        print(\"The area is:\",area)\n",
    "        \n",
    "    def cube(self):\n",
    "        l = int(input(\"Enter the length of side:\"))\n",
    "        area = 6*(l**2)\n",
    "        print(\"The area is:\",area)\n",
    "        \n",
    "    def cylinder(self):\n",
    "        r = int(input(\"Enter the length of radius\"))\n",
    "        h = int(input(\"Enter the length of height\"))\n",
    "        area = (22/7)*(r**2)*h\n",
    "operation = int(input(\"Enter an operation:\\nTrapezium - 1\\nRhombus - 2\\nParallelogram - 3\\nCube - 4\\nCylinder - 5\"))       \n",
    "obj = Calculation()\n",
    "if operation == 1:\n",
    "    obj.trapezium()\n",
    "if operation == 2:\n",
    "    obj.rhombus()\n",
    "if operation == 3:\n",
    "    obj.parallelogram()\n",
    "if operation == 4:\n",
    "    obj.cube()\n",
    "if operation == 5:\n",
    "    obj.cylinder()\n",
    "        \n",
    "        \n",
    "        "
   ]
  },
  {
   "cell_type": "code",
   "execution_count": 2,
   "id": "a7ff7f88",
   "metadata": {},
   "outputs": [
    {
     "name": "stdout",
     "output_type": "stream",
     "text": [
      "Your file has been created\n"
     ]
    }
   ],
   "source": [
    "#Project3\n",
    "import pandas as pd\n",
    "data = {'Lager': [\"33 Export\",\"Desperados\",\"Goldberg\",\"Gulder\",\"Heineken\",\"Star\"],\n",
    "       'Stout':[\"Legend\",\"Turbo King\",\"Williams\",\"\",\"\",\"\"],\n",
    "        'Non-Alcoholic':[\"Maltina\",\"Amstel Malta\",\"Malta Gold\",\"Fayrouz\",\"\",\"\"]}\n",
    "\n",
    "class Drinks:\n",
    "    def dataframe(self,data):\n",
    "        df = pd.DataFrame(data)\n",
    "        return df\n",
    "\n",
    "class Drinks2(Drinks):\n",
    "    \n",
    "    def create_file(self,df):\n",
    "        df.to_csv(\"dataset.csv\")\n",
    "        print(\"Your file has been created\")\n",
    "\n",
    "df = pd.DataFrame(data)        \n",
    "obj = Drinks2()\n",
    "obj.dataframe(data)\n",
    "obj.create_file(df)\n"
   ]
  },
  {
   "cell_type": "code",
   "execution_count": null,
   "id": "bde9f8e5",
   "metadata": {},
   "outputs": [],
   "source": []
  },
  {
   "cell_type": "code",
   "execution_count": null,
   "id": "6039ec25",
   "metadata": {},
   "outputs": [],
   "source": []
  }
 ],
 "metadata": {
  "kernelspec": {
   "display_name": "Python 3 (ipykernel)",
   "language": "python",
   "name": "python3"
  },
  "language_info": {
   "codemirror_mode": {
    "name": "ipython",
    "version": 3
   },
   "file_extension": ".py",
   "mimetype": "text/x-python",
   "name": "python",
   "nbconvert_exporter": "python",
   "pygments_lexer": "ipython3",
   "version": "3.10.9"
  }
 },
 "nbformat": 4,
 "nbformat_minor": 5
}
