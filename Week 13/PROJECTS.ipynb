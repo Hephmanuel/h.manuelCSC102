{
 "cells": [
  {
   "cell_type": "code",
   "execution_count": null,
   "id": "44a12c97",
   "metadata": {},
   "outputs": [
    {
     "name": "stdout",
     "output_type": "stream",
     "text": [
      "Enter your name: Manuela\n",
      "Enter your matriculation number: 22\n",
      "Enter your department: 2\n",
      "Enter your level: 2\n",
      "Enter your name:2\n"
     ]
    }
   ],
   "source": [
    "#PROJECT 1\n",
    "import pandas as pd\n",
    "PAU_SMIS = []\n",
    "for i in range(5):\n",
    "\n",
    "    name = input(\"Enter your name: \")\n",
    "    matric_no = input(\"Enter your matriculation number: \")\n",
    "    department = input(\"Enter your department: \")\n",
    "    level = input(\"Enter your level: \")\n",
    "\n",
    "        \n",
    "    records = {}\n",
    "    records['Student name']= input(\"Enter your name:\")\n",
    "    records['Matric number']= input(\"Enter your matriculation number:\")\n",
    "    records['Department']= input(\"Enter your department:\")\n",
    "    records['Level']= input(\"Enter your level:\")\n",
    "    \n",
    "    #append to dictionary\n",
    "    PAU_SMIS.append(records)\n",
    "    df = pd.DataFrame(data)\n",
    "    print(df)\n",
    "    \n",
    "    df.to_csv('PAU_SMIS.csv', index= False)\n",
    "\n",
    "    print(\"File saved\")\n",
    "    \n"
   ]
  },
  {
   "cell_type": "code",
   "execution_count": 3,
   "id": "815548c9",
   "metadata": {},
   "outputs": [
    {
     "name": "stdout",
     "output_type": "stream",
     "text": [
      "Your file has been saved\n"
     ]
    }
   ],
   "source": [
    "#PROJECT2\n",
    "import pandas as pd\n",
    "data = {'Companies':['Enron','Anderson','GK Jones','Mica','Dune'],\n",
    "        'Dates':['1987','1936','2001','1996','2008'],\n",
    "        'Assets':['1,000,000','1,500.000','3,000,000','250,000','800,000'],\n",
    "        'Liabilities':['200,000','500,000','1,500,000','50,000','300,000'],\n",
    "        'Percentage Leverages':['80','66.7','50','80','62.5']}\n",
    "\n",
    "\n",
    "df = pd.DataFrame(data)\n",
    "df.to_csv('Companies.csv')\n",
    "print(\"Your file has been saved\")\n"
   ]
  },
  {
   "cell_type": "code",
   "execution_count": null,
   "id": "51fcb6db",
   "metadata": {},
   "outputs": [],
   "source": []
  }
 ],
 "metadata": {
  "kernelspec": {
   "display_name": "Python 3 (ipykernel)",
   "language": "python",
   "name": "python3"
  },
  "language_info": {
   "codemirror_mode": {
    "name": "ipython",
    "version": 3
   },
   "file_extension": ".py",
   "mimetype": "text/x-python",
   "name": "python",
   "nbconvert_exporter": "python",
   "pygments_lexer": "ipython3",
   "version": "3.10.9"
  }
 },
 "nbformat": 4,
 "nbformat_minor": 5
}
