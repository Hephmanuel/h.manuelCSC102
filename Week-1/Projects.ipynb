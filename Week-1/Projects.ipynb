{
 "cells": [
  {
   "cell_type": "code",
   "execution_count": 1,
   "id": "d1d153dc-3722-4e90-ae39-f42d4b488e43",
   "metadata": {},
   "outputs": [
    {
     "name": "stdout",
     "output_type": "stream",
     "text": [
      "The amount earned with simple interest is 2500.75\n"
     ]
    }
   ],
   "source": [
    "#program to find simple interest\n",
    "p = 500\n",
    "n = 5\n",
    "r = 3\n",
    "\n",
    "r = r/100\n",
    "\n",
    "a = p * ( 1 + (r/100) ) * n\n",
    "print(\"The amount earned with simple interest is\", a)"
   ]
  },
  {
   "cell_type": "code",
   "execution_count": 2,
   "id": "5a06a055-bb83-4a4f-8921-6547eda5f8c5",
   "metadata": {},
   "outputs": [
    {
     "name": "stdout",
     "output_type": "stream",
     "text": [
      "The amount earned with compund interest is 2.0938994384765624e+16\n"
     ]
    }
   ],
   "source": [
    "# program to find compound interest\n",
    "p = 500\n",
    "n = 2\n",
    "r = 10\n",
    "t = 3\n",
    "\n",
    "r = r/100\n",
    "\n",
    "#A = P ( 1 + (R/N) ) **(N*T)\n",
    "k = p * (1 + (r/n))\n",
    "a = k ** (n*t)\n",
    "\n",
    "print(\"The amount earned with compund interest is\", a)\n"
   ]
  },
  {
   "cell_type": "code",
   "execution_count": 3,
   "id": "f444eca7-931d-468c-89a9-e83a4da687cb",
   "metadata": {},
   "outputs": [
    {
     "name": "stdout",
     "output_type": "stream",
     "text": [
      "The amount is 36017.5539364659\n"
     ]
    }
   ],
   "source": [
    "#program to calculate the annuity \n",
    "pmt = 500\n",
    "n = 5\n",
    "r = 10\n",
    "t = 3\n",
    "\n",
    "r = r/10\n",
    "\n",
    "k = ((1 + (r/n))**(n*t)) -1\n",
    "a = pmt*k/(r/n)\n",
    "\n",
    "print(\"The amount is\", a)\n"
   ]
  },
  {
   "cell_type": "code",
   "execution_count": null,
   "id": "151fbde8-7b10-4bbb-81ca-1ed8304e9f7e",
   "metadata": {},
   "outputs": [],
   "source": []
  }
 ],
 "metadata": {
  "kernelspec": {
   "display_name": "Python 3 (ipykernel)",
   "language": "python",
   "name": "python3"
  },
  "language_info": {
   "codemirror_mode": {
    "name": "ipython",
    "version": 3
   },
   "file_extension": ".py",
   "mimetype": "text/x-python",
   "name": "python",
   "nbconvert_exporter": "python",
   "pygments_lexer": "ipython3",
   "version": "3.10.9"
  }
 },
 "nbformat": 4,
 "nbformat_minor": 5
}
